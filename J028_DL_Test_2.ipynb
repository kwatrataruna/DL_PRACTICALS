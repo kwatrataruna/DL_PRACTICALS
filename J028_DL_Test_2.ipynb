{
  "nbformat": 4,
  "nbformat_minor": 0,
  "metadata": {
    "colab": {
      "name": "Keras-2dcnn-5(DL_Test_2).ipynb",
      "provenance": [],
      "collapsed_sections": []
    },
    "kernelspec": {
      "name": "python3",
      "display_name": "Python 3"
    },
    "accelerator": "GPU"
  },
  "cells": [
    {
      "cell_type": "markdown",
      "metadata": {
        "id": "IL3EBo0jd6rx",
        "colab_type": "text"
      },
      "source": [
        "# 1 ) Importing Various Modules."
      ]
    },
    {
      "cell_type": "code",
      "metadata": {
        "id": "MxZb5PvUdrnq",
        "colab_type": "code",
        "outputId": "b219114b-4ab3-4a3f-b953-64dd10f81b8e",
        "colab": {
          "base_uri": "https://localhost:8080/",
          "height": 84
        }
      },
      "source": [
        "# Ignore  the warnings\n",
        "import warnings\n",
        "warnings.filterwarnings('always')\n",
        "warnings.filterwarnings('ignore')\n",
        "\n",
        "# data visualisation and manipulation\n",
        "import numpy as np\n",
        "import pandas as pd\n",
        "import os\n",
        "import matplotlib.pyplot as plt\n",
        "from matplotlib import style\n",
        "import seaborn as sns\n",
        " \n",
        "#configure\n",
        "# sets matplotlib to inline and displays graphs below the corressponding cell.\n",
        "%matplotlib inline  \n",
        "style.use('fivethirtyeight')\n",
        "sns.set(style='whitegrid',color_codes=True)\n",
        "\n",
        "#model selection\n",
        "from sklearn.model_selection import train_test_split\n",
        "from sklearn.model_selection import KFold\n",
        "from sklearn.metrics import accuracy_score,precision_score,recall_score,confusion_matrix,roc_curve,roc_auc_score\n",
        "from sklearn.model_selection import GridSearchCV\n",
        "from sklearn.preprocessing import LabelEncoder\n",
        "\n",
        "#preprocess.\n",
        "from keras.preprocessing.image import ImageDataGenerator\n",
        "\n",
        "#dl libraraies\n",
        "from keras import backend as K\n",
        "from keras.models import Sequential\n",
        "from keras.layers import Dense\n",
        "from keras.optimizers import Adam,SGD,Adagrad,Adadelta,RMSprop\n",
        "from keras.utils import to_categorical\n",
        "\n",
        "# specifically for cnn\n",
        "from keras.layers import Dropout, Flatten,Activation\n",
        "from keras.layers import Conv2D, MaxPooling2D, BatchNormalization\n",
        " \n",
        "import tensorflow as tf\n",
        "import random as rn\n",
        "\n",
        "# specifically for manipulating zipped images and getting numpy arrays of pixel values of images.\n",
        "import cv2                  \n",
        "import numpy as np  \n",
        "from tqdm import tqdm\n",
        "import os                   \n",
        "from random import shuffle  \n",
        "from zipfile import ZipFile\n",
        "from PIL import Image"
      ],
      "execution_count": 0,
      "outputs": [
        {
          "output_type": "stream",
          "text": [
            "Using TensorFlow backend.\n"
          ],
          "name": "stderr"
        },
        {
          "output_type": "display_data",
          "data": {
            "text/html": [
              "<p style=\"color: red;\">\n",
              "The default version of TensorFlow in Colab will soon switch to TensorFlow 2.x.<br>\n",
              "We recommend you <a href=\"https://www.tensorflow.org/guide/migrate\" target=\"_blank\">upgrade</a> now \n",
              "or ensure your notebook will continue to use TensorFlow 1.x via the <code>%tensorflow_version 1.x</code> magic:\n",
              "<a href=\"https://colab.research.google.com/notebooks/tensorflow_version.ipynb\" target=\"_blank\">more info</a>.</p>\n"
            ],
            "text/plain": [
              "<IPython.core.display.HTML object>"
            ]
          },
          "metadata": {
            "tags": []
          }
        }
      ]
    },
    {
      "cell_type": "markdown",
      "metadata": {
        "id": "t49iLxvo-7vQ",
        "colab_type": "text"
      },
      "source": [
        "<a id=\"content2\"></a>\n",
        "## 2 ) Preparing the Data"
      ]
    },
    {
      "cell_type": "code",
      "metadata": {
        "id": "N4ICfQ-Mlhdz",
        "colab_type": "code",
        "outputId": "a9aa8f1b-ea75-4b80-cf9a-916a52a90601",
        "colab": {
          "base_uri": "https://localhost:8080/",
          "height": 1000
        }
      },
      "source": [
        "from google.colab import drive\n",
        "drive.mount('/content/drive')\n",
        "!ls drive/\"My Drive\""
      ],
      "execution_count": 0,
      "outputs": [
        {
          "output_type": "stream",
          "text": [
            "Drive already mounted at /content/drive; to attempt to forcibly remount, call drive.mount(\"/content/drive\", force_remount=True).\n",
            " 14583.docx\n",
            " 14583.docx.gdoc\n",
            "'1547439903130_Android OS Dev Practical1'\n",
            "'1547439903130_Android OS Dev Practical1.gdoc'\n",
            "'15 Gobal Issues and Problems R1 [Compatibility Mode].gdoc'\n",
            "'15 Gobal Issues and Problems R1 [Compatibility Mode].pdf'\n",
            "'1. Download and Installing the Cloudera VM Instructions.gdoc'\n",
            "'1. Download and Installing the Cloudera VM Instructions.pdf'\n",
            " 20160407_131147.mp4\n",
            " 23feb.R\n",
            " 5_6060010846757584974.gdoc\n",
            " 5_6134265157653627177.pdf\n",
            " 5_6210650158875541663.42.pdf\n",
            " AAM.docx\n",
            "'AC Fundamentals.gdoc'\n",
            " ADBMS-QBB-1.xlsx\n",
            " AI-Intro_L1.gdoc\n",
            " AI-Intro_L1.pdf\n",
            " AIProj.gdoc\n",
            "'AI Report.gdoc'\n",
            "'AOS Synopsis.gdoc'\n",
            "'BA_1e_Online_Data_ Files.rar'\n",
            "'Barriers to Communication.pptx.gslides'\n",
            " Brexit_Eco\n",
            " Camera\n",
            " CarPrice_Assignment.csv\n",
            "'Central Bank.gdoc'\n",
            "'COI PPT.gdoc'\n",
            "'Colab Notebooks'\n",
            "'Comparison of Methods for Image Recognition and Classification in R.gdoc'\n",
            "'Computer Repair Times'\n",
            "'Copy of TensorFlow with GPU'\n",
            " cropped_k\n",
            " CV_Assignment1.gdoc\n",
            " CVS.pdf\n",
            "'Database  Security, Optimization and Integrity.gslides'\n",
            " DC_Circuits1.pdf.gdoc\n",
            "'Deep Blue.gdoc'\n",
            "'DL NLP_Project.gdoc'\n",
            " DL_Test1_J025.ipynb\n",
            "'Environmental Studies.pdf'\n",
            "'FIM (1).gdoc'\n",
            " FIM.gdoc\n",
            " Fragments.docx\n",
            " green_mountains_rocky.jpg\n",
            " image2.jpeg\n",
            " IMG_20191114_192405_458.jpg\n",
            "'Implementation of Flip Flop using NOR Gate.docx'\n",
            "'Implementation of Flip Flop using NOR Gate.docx.gdoc'\n",
            "'Implementation of Flip Flop using NOR Gate.gdoc'\n",
            " indian_coins.jpg\n",
            "'Informal flow.pptx.gslides'\n",
            " Intern_Prep.gdoc\n",
            "'Interview Questions.gdoc'\n",
            "'INTRAPERSONAL COMMUNICATION'\n",
            "'JJO M2 NOTES_20190906092919 (1).pdf'\n",
            "'JJO M2 NOTES_20190906092919.pdf'\n",
            " Keras_Initializers.gdoc\n",
            " Keyboard\n",
            " KMeans.gsheet\n",
            "'Levels of Communication.pptx.gslides'\n",
            " MailAI.gdoc\n",
            " Marketting_Assignment_1.gdoc\n",
            " matrices.pdf\n",
            " mech144232415981.pdf\n",
            " Mitali-Orbuculum-Test.gdoc\n",
            " MLMastery.docx\n",
            " ML_Theory.gdoc\n",
            "'MPSTME DS '\n",
            " MyDS\n",
            " negwords.txt\n",
            "'NLP :(.gdoc'\n",
            "'NOR Gate SR FlipFlop.docx'\n",
            "'NOR Gate SR FlipFlop.docx.gdoc'\n",
            "'Orbuculum DS Interview - Round 1.pdf'\n",
            " ORE.gdoc\n",
            " PersonalBackup\n",
            "'PL SQL.gdoc'\n",
            "'PLUGS AND SOCKETT.pptx.gslides'\n",
            " PM_Lec1.csv\n",
            " poswords.txt\n",
            "'RM Answers.gdoc'\n",
            " RM.gdoc\n",
            "'Sampling Methods.gdoc'\n",
            " sem6\n",
            " SEM-IV-DBMS-01-DataWareHouse.docx\n",
            "'semVI syllabus .pdf'\n",
            " shape_predictor_68_face_landmarks.dat\n",
            " shapes_1.png\n",
            "'SM Final PPT.gslides'\n",
            "'SM .gdoc'\n",
            "'SM_Project .gdoc'\n",
            " SMSSpamCollection.txt\n",
            "'SM Trial Project with Mitali (Responses).gsheet'\n",
            "'Soap Dataset Inference.docx'\n",
            "'Soap Dataset Inference.gdoc'\n",
            " String_buffer.zip\n",
            "'Syllabus of B. Tech Data Science SEM V - 2019-20.gdoc'\n",
            "'Syllabus of B. Tech Data Science SEM V - 2019-20.pdf'\n",
            " Technical.gslides\n",
            " Technical.pptx\n",
            "'The hindu project'\n",
            " traiangle.png\n",
            " train-v2.0.json\n",
            "'Triple Talaq.gslides'\n",
            " UCI_Credit_Card.csv\n",
            " UCMerced_LandUse\n",
            " unit_8\n",
            " unit_8.gslides\n",
            "'Untitled document (1).gdoc'\n",
            "'Untitled document (2).gdoc'\n",
            "'Untitled document (3).gdoc'\n",
            "'Untitled document (4).gdoc'\n",
            "'Untitled document (5).gdoc'\n",
            "'Untitled document (6).gdoc'\n",
            "'Untitled document.gdoc'\n",
            "'Untitled form.gform'\n",
            "'Untitled spreadsheet (1).gsheet'\n",
            "'Untitled spreadsheet.gsheet'\n"
          ],
          "name": "stdout"
        }
      ]
    },
    {
      "cell_type": "markdown",
      "metadata": {
        "id": "lsu3P-nC_Ip4",
        "colab_type": "text"
      },
      "source": [
        "# 2.1) Making the functions to get the training and validation set from the Images"
      ]
    },
    {
      "cell_type": "code",
      "metadata": {
        "id": "Bj1LWocIxkRu",
        "colab_type": "code",
        "colab": {}
      },
      "source": [
        "X=[]\n",
        "Z=[]\n",
        "IMG_SIZE=150\n",
        "\n",
        "AGRICULTURAL_DIR='drive/My Drive/UCMerced_LandUse/Images/agricultural' \n",
        "AIRPLANE_DIR='drive/My Drive/UCMerced_LandUse/Images/airplane'\n",
        "BASEBALLDIAMOND_DIR='drive/My Drive/UCMerced_LandUse/Images/baseballdiamond'\n",
        "BEACH_DIR='drive/My Drive/UCMerced_LandUse/Images/beach'\n",
        "BUILDINGS_DIR='drive/My Drive/UCMerced_LandUse/Images/buildings'\n",
        "CHAPARRAL_DIR='drive/My Drive/UCMerced_LandUse/Images/chaparral'\n",
        "DENSERESIDENTIAL_DIR='drive/My Drive/UCMerced_LandUse/Images/denseresidential'\n",
        "FOREST_DIR='drive/My Drive/UCMerced_LandUse/Images/forest'\n",
        "FREEWAY_DIR='drive/My Drive/UCMerced_LandUse/Images/freeway'\n",
        "GOLFCOURSE_DIR='drive/My Drive/UCMerced_LandUse/Images/golfcourse'\n",
        "HARBOR_DIR='drive/My Drive/UCMerced_LandUse/Images/harbor'\n",
        "INTERSECTION_DIR='drive/My Drive/UCMerced_LandUse/Images/intersection'\n",
        "MEDIUMRESIDENTIAL_DIR='drive/My Drive/UCMerced_LandUse/Images/mediumresidential'\n",
        "MOBILEHOMEPARK_DIR='drive/My Drive/UCMerced_LandUse/Images/mobilehomepark'\n",
        "OVERPASS_DIR='drive/My Drive/UCMerced_LandUse/Images/overpass'\n",
        "PARKINGLOT_DIR='drive/My Drive/UCMerced_LandUse/Images/parkinglot'\n",
        "RIVER_DIR='drive/My Drive/UCMerced_LandUse/Images/river'\n",
        "RUNWAY_DIR='drive/My Drive/UCMerced_LandUse/Images/runway'\n",
        "SPARSERESIDENTIAL_DIR='drive/My Drive/UCMerced_LandUse/Images/sparseresidential'\n",
        "STORAGETANKS_DIR='drive/My Drive/UCMerced_LandUse/Images/storagetanks'\n",
        "TENNISCOURT_DIR='drive/My Drive/UCMerced_LandUse/Images/tenniscourt'"
      ],
      "execution_count": 0,
      "outputs": []
    },
    {
      "cell_type": "code",
      "metadata": {
        "id": "D8wCcPnR4pQh",
        "colab_type": "code",
        "colab": {}
      },
      "source": [
        "def assign_label(img,image_type):\n",
        "    return image_type"
      ],
      "execution_count": 0,
      "outputs": []
    },
    {
      "cell_type": "code",
      "metadata": {
        "id": "FQZNJsn84tas",
        "colab_type": "code",
        "colab": {}
      },
      "source": [
        "def make_train_data(image_type,DIR):\n",
        "    for img in tqdm(os.listdir(DIR)):\n",
        "        label=assign_label(img,image_type)\n",
        "        path = os.path.join(DIR,img)\n",
        "        img = cv2.imread(path,cv2.IMREAD_COLOR)\n",
        "        img = cv2.resize(img, (IMG_SIZE,IMG_SIZE))\n",
        "        \n",
        "        X.append(np.array(img))\n",
        "        Z.append(str(label))"
      ],
      "execution_count": 0,
      "outputs": []
    },
    {
      "cell_type": "code",
      "metadata": {
        "id": "0EvBxW6_4vsl",
        "colab_type": "code",
        "colab": {}
      },
      "source": [
        "from tqdm import tqdm"
      ],
      "execution_count": 0,
      "outputs": []
    },
    {
      "cell_type": "code",
      "metadata": {
        "id": "Z8oZCt2h4xr2",
        "colab_type": "code",
        "outputId": "21d64ec9-a17c-46dd-9ab9-80bc3a09cbd3",
        "colab": {
          "base_uri": "https://localhost:8080/",
          "height": 54
        }
      },
      "source": [
        "make_train_data('Agricultural',AGRICULTURAL_DIR)\n",
        "print(len(X))"
      ],
      "execution_count": 0,
      "outputs": [
        {
          "output_type": "stream",
          "text": [
            "100%|██████████| 100/100 [01:21<00:00,  1.27it/s]"
          ],
          "name": "stderr"
        },
        {
          "output_type": "stream",
          "text": [
            "100\n"
          ],
          "name": "stdout"
        },
        {
          "output_type": "stream",
          "text": [
            "\n"
          ],
          "name": "stderr"
        }
      ]
    },
    {
      "cell_type": "code",
      "metadata": {
        "id": "PGlimA1g43hE",
        "colab_type": "code",
        "outputId": "51a7d210-5ef6-416d-b06c-3fd2d5ea0da3",
        "colab": {
          "base_uri": "https://localhost:8080/",
          "height": 54
        }
      },
      "source": [
        "make_train_data('Airplane',AIRPLANE_DIR)\n",
        "print(len(X))"
      ],
      "execution_count": 0,
      "outputs": [
        {
          "output_type": "stream",
          "text": [
            "100%|██████████| 100/100 [01:20<00:00,  1.29it/s]"
          ],
          "name": "stderr"
        },
        {
          "output_type": "stream",
          "text": [
            "200\n"
          ],
          "name": "stdout"
        },
        {
          "output_type": "stream",
          "text": [
            "\n"
          ],
          "name": "stderr"
        }
      ]
    },
    {
      "cell_type": "code",
      "metadata": {
        "id": "3q0K3Cph489i",
        "colab_type": "code",
        "outputId": "499e1f27-7923-4952-98d6-dcb144e8b9e9",
        "colab": {
          "base_uri": "https://localhost:8080/",
          "height": 54
        }
      },
      "source": [
        "make_train_data('Baseball Diamond',BASEBALLDIAMOND_DIR)\n",
        "print(len(X))"
      ],
      "execution_count": 0,
      "outputs": [
        {
          "output_type": "stream",
          "text": [
            "100%|██████████| 101/101 [01:19<00:00,  1.26it/s]"
          ],
          "name": "stderr"
        },
        {
          "output_type": "stream",
          "text": [
            "301\n"
          ],
          "name": "stdout"
        },
        {
          "output_type": "stream",
          "text": [
            "\n"
          ],
          "name": "stderr"
        }
      ]
    },
    {
      "cell_type": "code",
      "metadata": {
        "id": "xwlVeNjV4_Do",
        "colab_type": "code",
        "outputId": "cfa3304b-bbed-4aa2-eb6f-0f33d926972f",
        "colab": {
          "base_uri": "https://localhost:8080/",
          "height": 54
        }
      },
      "source": [
        "make_train_data('Beach',BEACH_DIR)\n",
        "print(len(X))"
      ],
      "execution_count": 0,
      "outputs": [
        {
          "output_type": "stream",
          "text": [
            "100%|██████████| 100/100 [01:20<00:00,  1.32it/s]"
          ],
          "name": "stderr"
        },
        {
          "output_type": "stream",
          "text": [
            "401\n"
          ],
          "name": "stdout"
        },
        {
          "output_type": "stream",
          "text": [
            "\n"
          ],
          "name": "stderr"
        }
      ]
    },
    {
      "cell_type": "code",
      "metadata": {
        "id": "Jbk2034Q5Lq8",
        "colab_type": "code",
        "outputId": "7965e232-1524-41c7-a554-52ded847ec6b",
        "colab": {
          "base_uri": "https://localhost:8080/",
          "height": 54
        }
      },
      "source": [
        "make_train_data('Buildings',BUILDINGS_DIR)\n",
        "print(len(X))"
      ],
      "execution_count": 0,
      "outputs": [
        {
          "output_type": "stream",
          "text": [
            "100%|██████████| 100/100 [01:18<00:00,  1.24it/s]"
          ],
          "name": "stderr"
        },
        {
          "output_type": "stream",
          "text": [
            "501\n"
          ],
          "name": "stdout"
        },
        {
          "output_type": "stream",
          "text": [
            "\n"
          ],
          "name": "stderr"
        }
      ]
    },
    {
      "cell_type": "code",
      "metadata": {
        "id": "HtoA_9w95OC7",
        "colab_type": "code",
        "outputId": "0cfbdae6-4c33-485c-8cd4-5e2f43621b91",
        "colab": {
          "base_uri": "https://localhost:8080/",
          "height": 54
        }
      },
      "source": [
        "make_train_data('Chaparral',CHAPARRAL_DIR)\n",
        "print(len(X))"
      ],
      "execution_count": 0,
      "outputs": [
        {
          "output_type": "stream",
          "text": [
            "100%|██████████| 100/100 [01:14<00:00,  1.59it/s]"
          ],
          "name": "stderr"
        },
        {
          "output_type": "stream",
          "text": [
            "601\n"
          ],
          "name": "stdout"
        },
        {
          "output_type": "stream",
          "text": [
            "\n"
          ],
          "name": "stderr"
        }
      ]
    },
    {
      "cell_type": "code",
      "metadata": {
        "id": "K7UEuFPV5PLF",
        "colab_type": "code",
        "outputId": "8a651b50-f792-4578-e180-57a9ce5f2d1b",
        "colab": {
          "base_uri": "https://localhost:8080/",
          "height": 54
        }
      },
      "source": [
        "make_train_data('Dense Residential',DENSERESIDENTIAL_DIR)\n",
        "print(len(X))"
      ],
      "execution_count": 0,
      "outputs": [
        {
          "output_type": "stream",
          "text": [
            "100%|██████████| 100/100 [01:28<00:00,  1.31it/s]"
          ],
          "name": "stderr"
        },
        {
          "output_type": "stream",
          "text": [
            "701\n"
          ],
          "name": "stdout"
        },
        {
          "output_type": "stream",
          "text": [
            "\n"
          ],
          "name": "stderr"
        }
      ]
    },
    {
      "cell_type": "code",
      "metadata": {
        "id": "p0QSbXFH5hTS",
        "colab_type": "code",
        "outputId": "04507ccb-cc7f-48a9-8b92-70b2522db6af",
        "colab": {
          "base_uri": "https://localhost:8080/",
          "height": 54
        }
      },
      "source": [
        "make_train_data('Forest',FOREST_DIR)\n",
        "print(len(X))"
      ],
      "execution_count": 0,
      "outputs": [
        {
          "output_type": "stream",
          "text": [
            "100%|██████████| 100/100 [01:11<00:00,  1.49it/s]"
          ],
          "name": "stderr"
        },
        {
          "output_type": "stream",
          "text": [
            "801\n"
          ],
          "name": "stdout"
        },
        {
          "output_type": "stream",
          "text": [
            "\n"
          ],
          "name": "stderr"
        }
      ]
    },
    {
      "cell_type": "code",
      "metadata": {
        "id": "wNyeJpBe5hwo",
        "colab_type": "code",
        "outputId": "572d7291-1039-4d4d-e912-65a5783f5239",
        "colab": {
          "base_uri": "https://localhost:8080/",
          "height": 54
        }
      },
      "source": [
        "make_train_data('Freeway',FREEWAY_DIR)\n",
        "print(len(X))"
      ],
      "execution_count": 0,
      "outputs": [
        {
          "output_type": "stream",
          "text": [
            "100%|██████████| 100/100 [01:12<00:00,  1.42it/s]"
          ],
          "name": "stderr"
        },
        {
          "output_type": "stream",
          "text": [
            "901\n"
          ],
          "name": "stdout"
        },
        {
          "output_type": "stream",
          "text": [
            "\n"
          ],
          "name": "stderr"
        }
      ]
    },
    {
      "cell_type": "code",
      "metadata": {
        "id": "nGnzUx5K53-2",
        "colab_type": "code",
        "outputId": "64301e9a-78b2-43cd-9b9f-41a7b1ce3859",
        "colab": {
          "base_uri": "https://localhost:8080/",
          "height": 54
        }
      },
      "source": [
        "make_train_data('Golfcourse',GOLFCOURSE_DIR)\n",
        "print(len(X))"
      ],
      "execution_count": 0,
      "outputs": [
        {
          "output_type": "stream",
          "text": [
            "100%|██████████| 100/100 [01:12<00:00,  1.43it/s]"
          ],
          "name": "stderr"
        },
        {
          "output_type": "stream",
          "text": [
            "1001\n"
          ],
          "name": "stdout"
        },
        {
          "output_type": "stream",
          "text": [
            "\n"
          ],
          "name": "stderr"
        }
      ]
    },
    {
      "cell_type": "code",
      "metadata": {
        "id": "iNgjHnuZ6LCa",
        "colab_type": "code",
        "outputId": "66092a73-f9d9-4c83-c3ef-b5685b241445",
        "colab": {
          "base_uri": "https://localhost:8080/",
          "height": 54
        }
      },
      "source": [
        "make_train_data('Harbor',HARBOR_DIR)\n",
        "print(len(X))"
      ],
      "execution_count": 0,
      "outputs": [
        {
          "output_type": "stream",
          "text": [
            "100%|██████████| 100/100 [01:10<00:00,  1.39it/s]"
          ],
          "name": "stderr"
        },
        {
          "output_type": "stream",
          "text": [
            "1101\n"
          ],
          "name": "stdout"
        },
        {
          "output_type": "stream",
          "text": [
            "\n"
          ],
          "name": "stderr"
        }
      ]
    },
    {
      "cell_type": "code",
      "metadata": {
        "id": "oul7FHPp6PlR",
        "colab_type": "code",
        "outputId": "ad586a96-1db8-41be-cf30-8e85cfff28e4",
        "colab": {
          "base_uri": "https://localhost:8080/",
          "height": 54
        }
      },
      "source": [
        "make_train_data('Intersection',INTERSECTION_DIR)\n",
        "print(len(X))"
      ],
      "execution_count": 0,
      "outputs": [
        {
          "output_type": "stream",
          "text": [
            "100%|██████████| 100/100 [01:08<00:00,  1.62it/s]"
          ],
          "name": "stderr"
        },
        {
          "output_type": "stream",
          "text": [
            "1201\n"
          ],
          "name": "stdout"
        },
        {
          "output_type": "stream",
          "text": [
            "\n"
          ],
          "name": "stderr"
        }
      ]
    },
    {
      "cell_type": "code",
      "metadata": {
        "id": "cTCOjxmD6UYW",
        "colab_type": "code",
        "outputId": "0ed3ac30-e233-43cf-ad52-e42dfcf466fa",
        "colab": {
          "base_uri": "https://localhost:8080/",
          "height": 54
        }
      },
      "source": [
        "make_train_data('Medium Residential',MEDIUMRESIDENTIAL_DIR)\n",
        "print(len(X))"
      ],
      "execution_count": 0,
      "outputs": [
        {
          "output_type": "stream",
          "text": [
            "100%|██████████| 102/102 [01:11<00:00,  1.55it/s]"
          ],
          "name": "stderr"
        },
        {
          "output_type": "stream",
          "text": [
            "1303\n"
          ],
          "name": "stdout"
        },
        {
          "output_type": "stream",
          "text": [
            "\n"
          ],
          "name": "stderr"
        }
      ]
    },
    {
      "cell_type": "code",
      "metadata": {
        "id": "P1KwWifp6Z4G",
        "colab_type": "code",
        "outputId": "13c469e4-8e44-4f50-e643-00ecedd8ee0d",
        "colab": {
          "base_uri": "https://localhost:8080/",
          "height": 54
        }
      },
      "source": [
        "make_train_data('Mobile Home Park',MOBILEHOMEPARK_DIR)\n",
        "print(len(X))"
      ],
      "execution_count": 0,
      "outputs": [
        {
          "output_type": "stream",
          "text": [
            "100%|██████████| 100/100 [01:06<00:00,  1.65it/s]"
          ],
          "name": "stderr"
        },
        {
          "output_type": "stream",
          "text": [
            "1403\n"
          ],
          "name": "stdout"
        },
        {
          "output_type": "stream",
          "text": [
            "\n"
          ],
          "name": "stderr"
        }
      ]
    },
    {
      "cell_type": "code",
      "metadata": {
        "id": "oYQwhtWu6hYe",
        "colab_type": "code",
        "outputId": "8eb6ee4e-0048-4a61-cc7f-1a4fb6c9ff16",
        "colab": {
          "base_uri": "https://localhost:8080/",
          "height": 54
        }
      },
      "source": [
        "make_train_data('Overpass',OVERPASS_DIR)\n",
        "print(len(X))"
      ],
      "execution_count": 0,
      "outputs": [
        {
          "output_type": "stream",
          "text": [
            "100%|██████████| 100/100 [01:09<00:00,  1.43it/s]"
          ],
          "name": "stderr"
        },
        {
          "output_type": "stream",
          "text": [
            "1503\n"
          ],
          "name": "stdout"
        },
        {
          "output_type": "stream",
          "text": [
            "\n"
          ],
          "name": "stderr"
        }
      ]
    },
    {
      "cell_type": "code",
      "metadata": {
        "id": "_n-9yGXy6raE",
        "colab_type": "code",
        "outputId": "4c38c315-43d8-4cff-d5bb-bd9302de7e5e",
        "colab": {
          "base_uri": "https://localhost:8080/",
          "height": 54
        }
      },
      "source": [
        "make_train_data('Parking Lot',PARKINGLOT_DIR)\n",
        "print(len(X))"
      ],
      "execution_count": 0,
      "outputs": [
        {
          "output_type": "stream",
          "text": [
            "100%|██████████| 100/100 [01:08<00:00,  1.51it/s]"
          ],
          "name": "stderr"
        },
        {
          "output_type": "stream",
          "text": [
            "1603\n"
          ],
          "name": "stdout"
        },
        {
          "output_type": "stream",
          "text": [
            "\n"
          ],
          "name": "stderr"
        }
      ]
    },
    {
      "cell_type": "code",
      "metadata": {
        "id": "W7gazX6u6v1V",
        "colab_type": "code",
        "outputId": "d8a04171-8ddf-4f62-92bc-d3cfbdbf3da7",
        "colab": {
          "base_uri": "https://localhost:8080/",
          "height": 54
        }
      },
      "source": [
        "make_train_data('River',RIVER_DIR)\n",
        "print(len(X))"
      ],
      "execution_count": 0,
      "outputs": [
        {
          "output_type": "stream",
          "text": [
            "100%|██████████| 100/100 [01:10<00:00,  1.59it/s]"
          ],
          "name": "stderr"
        },
        {
          "output_type": "stream",
          "text": [
            "1703\n"
          ],
          "name": "stdout"
        },
        {
          "output_type": "stream",
          "text": [
            "\n"
          ],
          "name": "stderr"
        }
      ]
    },
    {
      "cell_type": "code",
      "metadata": {
        "id": "W5WXOGbk6zKM",
        "colab_type": "code",
        "outputId": "25589b36-932b-4345-dbf6-df0d60076cb5",
        "colab": {
          "base_uri": "https://localhost:8080/",
          "height": 54
        }
      },
      "source": [
        "make_train_data('Runway',RUNWAY_DIR)\n",
        "print(len(X))"
      ],
      "execution_count": 0,
      "outputs": [
        {
          "output_type": "stream",
          "text": [
            "100%|██████████| 100/100 [01:11<00:00,  1.42it/s]"
          ],
          "name": "stderr"
        },
        {
          "output_type": "stream",
          "text": [
            "1803\n"
          ],
          "name": "stdout"
        },
        {
          "output_type": "stream",
          "text": [
            "\n"
          ],
          "name": "stderr"
        }
      ]
    },
    {
      "cell_type": "code",
      "metadata": {
        "id": "Xqv7nBV362tC",
        "colab_type": "code",
        "outputId": "b9d13e1e-320f-4a05-e41a-bbeb5cfc69dc",
        "colab": {
          "base_uri": "https://localhost:8080/",
          "height": 54
        }
      },
      "source": [
        "make_train_data('Sparse Residential',SPARSERESIDENTIAL_DIR)\n",
        "print(len(X))"
      ],
      "execution_count": 0,
      "outputs": [
        {
          "output_type": "stream",
          "text": [
            "100%|██████████| 100/100 [01:10<00:00,  1.47it/s]"
          ],
          "name": "stderr"
        },
        {
          "output_type": "stream",
          "text": [
            "1903\n"
          ],
          "name": "stdout"
        },
        {
          "output_type": "stream",
          "text": [
            "\n"
          ],
          "name": "stderr"
        }
      ]
    },
    {
      "cell_type": "code",
      "metadata": {
        "id": "19In7umf68g7",
        "colab_type": "code",
        "outputId": "090875d8-ca52-4b78-bcb9-b4e177caebbb",
        "colab": {
          "base_uri": "https://localhost:8080/",
          "height": 54
        }
      },
      "source": [
        "make_train_data('Storage Tanks',STORAGETANKS_DIR)\n",
        "print(len(X))"
      ],
      "execution_count": 0,
      "outputs": [
        {
          "output_type": "stream",
          "text": [
            "100%|██████████| 101/101 [01:15<00:00,  1.54it/s]"
          ],
          "name": "stderr"
        },
        {
          "output_type": "stream",
          "text": [
            "2004\n"
          ],
          "name": "stdout"
        },
        {
          "output_type": "stream",
          "text": [
            "\n"
          ],
          "name": "stderr"
        }
      ]
    },
    {
      "cell_type": "code",
      "metadata": {
        "id": "6kMMcCm07Hxl",
        "colab_type": "code",
        "outputId": "81bd026b-442b-450c-da80-92cdb0173a0b",
        "colab": {
          "base_uri": "https://localhost:8080/",
          "height": 54
        }
      },
      "source": [
        "make_train_data('Tennis Court',TENNISCOURT_DIR)\n",
        "print(len(X))"
      ],
      "execution_count": 0,
      "outputs": [
        {
          "output_type": "stream",
          "text": [
            "100%|██████████| 100/100 [01:12<00:00,  1.51s/it]"
          ],
          "name": "stderr"
        },
        {
          "output_type": "stream",
          "text": [
            "2104\n"
          ],
          "name": "stdout"
        },
        {
          "output_type": "stream",
          "text": [
            "\n"
          ],
          "name": "stderr"
        }
      ]
    },
    {
      "cell_type": "markdown",
      "metadata": {
        "id": "Kj-SgXwq_Sfp",
        "colab_type": "text"
      },
      "source": [
        "# 2.3 ) Label Encoding the Y array (i.e. agricultural->0, airplane->1 etc...) & then One Hot Encoding"
      ]
    },
    {
      "cell_type": "code",
      "metadata": {
        "id": "qs7-XRaT7Qqt",
        "colab_type": "code",
        "colab": {}
      },
      "source": [
        "le=LabelEncoder()\n",
        "Y=le.fit_transform(Z)\n",
        "Y=to_categorical(Y,21)\n",
        "X=np.array(X)\n",
        "X=X/255"
      ],
      "execution_count": 0,
      "outputs": []
    },
    {
      "cell_type": "markdown",
      "metadata": {
        "id": "KIXJhD3r_gXo",
        "colab_type": "text"
      },
      "source": [
        "# 2.4) Splitting into Training and Validation Sets"
      ]
    },
    {
      "cell_type": "code",
      "metadata": {
        "id": "rG4oaC4C7V55",
        "colab_type": "code",
        "colab": {}
      },
      "source": [
        "x_train,x_test,y_train,y_test=train_test_split(X,Y,test_size=0.25,random_state=42)"
      ],
      "execution_count": 0,
      "outputs": []
    },
    {
      "cell_type": "markdown",
      "metadata": {
        "id": "T9uOEm_w_hy7",
        "colab_type": "text"
      },
      "source": [
        "# 2.5 ) Setting the Random Seeds"
      ]
    },
    {
      "cell_type": "code",
      "metadata": {
        "id": "C7ChBwcv7Zji",
        "colab_type": "code",
        "colab": {}
      },
      "source": [
        "np.random.seed(42)\n",
        "rn.seed(42)\n",
        "tf.set_random_seed(42)"
      ],
      "execution_count": 0,
      "outputs": []
    },
    {
      "cell_type": "markdown",
      "metadata": {
        "id": "lNmnxM9__lWU",
        "colab_type": "text"
      },
      "source": [
        "<a id=\"content3\"></a>\n",
        "## 3 ) Modelling"
      ]
    },
    {
      "cell_type": "markdown",
      "metadata": {
        "id": "Ac2TBejM_oqn",
        "colab_type": "text"
      },
      "source": [
        "# 3.1 ) Building the ConvNet Model"
      ]
    },
    {
      "cell_type": "code",
      "metadata": {
        "id": "KfDv23Yq7bZc",
        "colab_type": "code",
        "outputId": "5501b088-7c17-4869-9fc6-f7347e468dbc",
        "colab": {
          "base_uri": "https://localhost:8080/",
          "height": 187
        }
      },
      "source": [
        "# # modelling starts using a CNN.\n",
        "\n",
        "model = Sequential()\n",
        "model.add(Conv2D(filters = 32, kernel_size = (5,5),padding = 'Same',activation ='relu', input_shape = (150,150,3)))\n",
        "model.add(MaxPooling2D(pool_size=(2,2)))\n",
        "\n",
        "\n",
        "model.add(Conv2D(filters = 64, kernel_size = (3,3),padding = 'Same',activation ='relu'))\n",
        "model.add(MaxPooling2D(pool_size=(2,2), strides=(2,2)))\n",
        " \n",
        "\n",
        "model.add(Conv2D(filters =96, kernel_size = (3,3),padding = 'Same',activation ='relu'))\n",
        "model.add(MaxPooling2D(pool_size=(2,2), strides=(2,2)))\n",
        "\n",
        "model.add(Conv2D(filters = 96, kernel_size = (3,3),padding = 'Same',activation ='relu'))\n",
        "model.add(MaxPooling2D(pool_size=(2,2), strides=(2,2)))\n",
        "\n",
        "model.add(Flatten())\n",
        "model.add(Dense(512))\n",
        "model.add(Activation('relu'))\n",
        "model.add(Dense(21, activation = \"softmax\"))"
      ],
      "execution_count": 0,
      "outputs": [
        {
          "output_type": "stream",
          "text": [
            "WARNING:tensorflow:From /usr/local/lib/python3.6/dist-packages/keras/backend/tensorflow_backend.py:66: The name tf.get_default_graph is deprecated. Please use tf.compat.v1.get_default_graph instead.\n",
            "\n",
            "WARNING:tensorflow:From /usr/local/lib/python3.6/dist-packages/keras/backend/tensorflow_backend.py:541: The name tf.placeholder is deprecated. Please use tf.compat.v1.placeholder instead.\n",
            "\n",
            "WARNING:tensorflow:From /usr/local/lib/python3.6/dist-packages/keras/backend/tensorflow_backend.py:4432: The name tf.random_uniform is deprecated. Please use tf.random.uniform instead.\n",
            "\n",
            "WARNING:tensorflow:From /usr/local/lib/python3.6/dist-packages/keras/backend/tensorflow_backend.py:4267: The name tf.nn.max_pool is deprecated. Please use tf.nn.max_pool2d instead.\n",
            "\n"
          ],
          "name": "stdout"
        }
      ]
    },
    {
      "cell_type": "markdown",
      "metadata": {
        "id": "a--8PqlX_umH",
        "colab_type": "text"
      },
      "source": [
        "# 3.2 ) Using a LR Annealer"
      ]
    },
    {
      "cell_type": "code",
      "metadata": {
        "id": "yWB0P4F97lsQ",
        "colab_type": "code",
        "colab": {}
      },
      "source": [
        "batch_size=21\n",
        "epochs=50\n",
        "\n",
        "from keras.callbacks import ReduceLROnPlateau\n",
        "red_lr= ReduceLROnPlateau(monitor='val_acc',patience=3,verbose=1,factor=0.1)"
      ],
      "execution_count": 0,
      "outputs": []
    },
    {
      "cell_type": "markdown",
      "metadata": {
        "id": "ii7mBWmg_x8U",
        "colab_type": "text"
      },
      "source": [
        "# 3.3 ) Data Augmentation to prevent Overfitting\n"
      ]
    },
    {
      "cell_type": "code",
      "metadata": {
        "id": "wrVXoNxP7seJ",
        "colab_type": "code",
        "colab": {}
      },
      "source": [
        "datagen = ImageDataGenerator(\n",
        "        featurewise_center=False,  # set input mean to 0 over the dataset\n",
        "        samplewise_center=False,  # set each sample mean to 0\n",
        "        featurewise_std_normalization=False,  # divide inputs by std of the dataset\n",
        "        samplewise_std_normalization=False,  # divide each input by its std\n",
        "        zca_whitening=False,  # apply ZCA whitening\n",
        "        rotation_range=10,  # randomly rotate images in the range (degrees, 0 to 180)\n",
        "        zoom_range = 0.1, # Randomly zoom image \n",
        "        width_shift_range=0.2,  # randomly shift images horizontally (fraction of total width)\n",
        "        height_shift_range=0.2,  # randomly shift images vertically (fraction of total height)\n",
        "        horizontal_flip=True,  # randomly flip images\n",
        "        vertical_flip=False)  # randomly flip images\n",
        "\n",
        "\n",
        "datagen.fit(x_train)"
      ],
      "execution_count": 0,
      "outputs": []
    },
    {
      "cell_type": "markdown",
      "metadata": {
        "id": "7Fux6dRb_1G0",
        "colab_type": "text"
      },
      "source": [
        "# 3.4 ) Compiling the Keras Model & Summary"
      ]
    },
    {
      "cell_type": "code",
      "metadata": {
        "id": "WHVPZRd_7xP_",
        "colab_type": "code",
        "outputId": "ca3efd39-b3ee-47d6-f23a-dd40c2c72bd1",
        "colab": {
          "base_uri": "https://localhost:8080/",
          "height": 168
        }
      },
      "source": [
        "model.compile(optimizer=Adam(lr=0.001),loss='binary_crossentropy',metrics=['accuracy'])"
      ],
      "execution_count": 0,
      "outputs": [
        {
          "output_type": "stream",
          "text": [
            "WARNING:tensorflow:From /usr/local/lib/python3.6/dist-packages/keras/optimizers.py:793: The name tf.train.Optimizer is deprecated. Please use tf.compat.v1.train.Optimizer instead.\n",
            "\n",
            "WARNING:tensorflow:From /usr/local/lib/python3.6/dist-packages/keras/backend/tensorflow_backend.py:3657: The name tf.log is deprecated. Please use tf.math.log instead.\n",
            "\n",
            "WARNING:tensorflow:From /usr/local/lib/python3.6/dist-packages/tensorflow_core/python/ops/nn_impl.py:183: where (from tensorflow.python.ops.array_ops) is deprecated and will be removed in a future version.\n",
            "Instructions for updating:\n",
            "Use tf.where in 2.0, which has the same broadcast rule as np.where\n"
          ],
          "name": "stdout"
        }
      ]
    },
    {
      "cell_type": "markdown",
      "metadata": {
        "id": "jeyMhviMmbAJ",
        "colab_type": "text"
      },
      "source": [
        "# **3.5) Model Summary**"
      ]
    },
    {
      "cell_type": "code",
      "metadata": {
        "id": "BRjC5tVW7zDo",
        "colab_type": "code",
        "outputId": "06eef712-5f75-4c58-fd02-d0c9c117301b",
        "colab": {
          "base_uri": "https://localhost:8080/",
          "height": 615
        }
      },
      "source": [
        "model.summary()"
      ],
      "execution_count": 0,
      "outputs": [
        {
          "output_type": "stream",
          "text": [
            "Model: \"sequential_1\"\n",
            "_________________________________________________________________\n",
            "Layer (type)                 Output Shape              Param #   \n",
            "=================================================================\n",
            "conv2d_1 (Conv2D)            (None, 150, 150, 32)      2432      \n",
            "_________________________________________________________________\n",
            "max_pooling2d_1 (MaxPooling2 (None, 75, 75, 32)        0         \n",
            "_________________________________________________________________\n",
            "conv2d_2 (Conv2D)            (None, 75, 75, 64)        18496     \n",
            "_________________________________________________________________\n",
            "max_pooling2d_2 (MaxPooling2 (None, 37, 37, 64)        0         \n",
            "_________________________________________________________________\n",
            "conv2d_3 (Conv2D)            (None, 37, 37, 96)        55392     \n",
            "_________________________________________________________________\n",
            "max_pooling2d_3 (MaxPooling2 (None, 18, 18, 96)        0         \n",
            "_________________________________________________________________\n",
            "conv2d_4 (Conv2D)            (None, 18, 18, 96)        83040     \n",
            "_________________________________________________________________\n",
            "max_pooling2d_4 (MaxPooling2 (None, 9, 9, 96)          0         \n",
            "_________________________________________________________________\n",
            "flatten_1 (Flatten)          (None, 7776)              0         \n",
            "_________________________________________________________________\n",
            "dense_1 (Dense)              (None, 512)               3981824   \n",
            "_________________________________________________________________\n",
            "activation_1 (Activation)    (None, 512)               0         \n",
            "_________________________________________________________________\n",
            "dense_2 (Dense)              (None, 21)                10773     \n",
            "=================================================================\n",
            "Total params: 4,151,957\n",
            "Trainable params: 4,151,957\n",
            "Non-trainable params: 0\n",
            "_________________________________________________________________\n"
          ],
          "name": "stdout"
        }
      ]
    },
    {
      "cell_type": "markdown",
      "metadata": {
        "id": "4sXGvVh7_49c",
        "colab_type": "text"
      },
      "source": [
        "# 3.6 ) Fitting on the Training set and making predcitons on the Validation set"
      ]
    },
    {
      "cell_type": "code",
      "metadata": {
        "id": "rBzDssSu71S3",
        "colab_type": "code",
        "outputId": "0acb5650-3f32-4137-bb95-f9afcafaf1f1",
        "colab": {
          "base_uri": "https://localhost:8080/",
          "height": 1000
        }
      },
      "source": [
        "History = model.fit_generator(datagen.flow(x_train,y_train, batch_size=batch_size),\n",
        "                              epochs = epochs, validation_data = (x_test,y_test), \n",
        "                              verbose = 1, steps_per_epoch=x_train.shape[0] // batch_size)\n",
        "# model.fit(x_train,y_train,epochs=epochs,batch_size=batch_size,validation_data = (x_test,y_test))"
      ],
      "execution_count": 0,
      "outputs": [
        {
          "output_type": "stream",
          "text": [
            "WARNING:tensorflow:From /usr/local/lib/python3.6/dist-packages/keras/backend/tensorflow_backend.py:1033: The name tf.assign_add is deprecated. Please use tf.compat.v1.assign_add instead.\n",
            "\n",
            "WARNING:tensorflow:From /usr/local/lib/python3.6/dist-packages/keras/backend/tensorflow_backend.py:1020: The name tf.assign is deprecated. Please use tf.compat.v1.assign instead.\n",
            "\n",
            "WARNING:tensorflow:From /usr/local/lib/python3.6/dist-packages/keras/backend/tensorflow_backend.py:3005: The name tf.Session is deprecated. Please use tf.compat.v1.Session instead.\n",
            "\n",
            "Epoch 1/50\n",
            "WARNING:tensorflow:From /usr/local/lib/python3.6/dist-packages/keras/backend/tensorflow_backend.py:190: The name tf.get_default_session is deprecated. Please use tf.compat.v1.get_default_session instead.\n",
            "\n",
            "WARNING:tensorflow:From /usr/local/lib/python3.6/dist-packages/keras/backend/tensorflow_backend.py:197: The name tf.ConfigProto is deprecated. Please use tf.compat.v1.ConfigProto instead.\n",
            "\n",
            "WARNING:tensorflow:From /usr/local/lib/python3.6/dist-packages/keras/backend/tensorflow_backend.py:207: The name tf.global_variables is deprecated. Please use tf.compat.v1.global_variables instead.\n",
            "\n",
            "WARNING:tensorflow:From /usr/local/lib/python3.6/dist-packages/keras/backend/tensorflow_backend.py:216: The name tf.is_variable_initialized is deprecated. Please use tf.compat.v1.is_variable_initialized instead.\n",
            "\n",
            "WARNING:tensorflow:From /usr/local/lib/python3.6/dist-packages/keras/backend/tensorflow_backend.py:223: The name tf.variables_initializer is deprecated. Please use tf.compat.v1.variables_initializer instead.\n",
            "\n",
            "75/75 [==============================] - 22s 287ms/step - loss: 0.1872 - acc: 0.9522 - val_loss: 0.1850 - val_acc: 0.9521\n",
            "Epoch 2/50\n",
            "75/75 [==============================] - 8s 105ms/step - loss: 0.1721 - acc: 0.9524 - val_loss: 0.1600 - val_acc: 0.9504\n",
            "Epoch 3/50\n",
            "75/75 [==============================] - 8s 106ms/step - loss: 0.1558 - acc: 0.9525 - val_loss: 0.1383 - val_acc: 0.9545\n",
            "Epoch 4/50\n",
            "75/75 [==============================] - 8s 104ms/step - loss: 0.1395 - acc: 0.9555 - val_loss: 0.1179 - val_acc: 0.9598\n",
            "Epoch 5/50\n",
            "75/75 [==============================] - 8s 103ms/step - loss: 0.1283 - acc: 0.9578 - val_loss: 0.1386 - val_acc: 0.9558\n",
            "Epoch 6/50\n",
            "75/75 [==============================] - 8s 104ms/step - loss: 0.1191 - acc: 0.9592 - val_loss: 0.1070 - val_acc: 0.9616\n",
            "Epoch 7/50\n",
            "75/75 [==============================] - 8s 106ms/step - loss: 0.1046 - acc: 0.9622 - val_loss: 0.0977 - val_acc: 0.9647\n",
            "Epoch 8/50\n",
            "75/75 [==============================] - 8s 104ms/step - loss: 0.0973 - acc: 0.9649 - val_loss: 0.0802 - val_acc: 0.9703\n",
            "Epoch 9/50\n",
            "75/75 [==============================] - 8s 106ms/step - loss: 0.0912 - acc: 0.9660 - val_loss: 0.0860 - val_acc: 0.9696\n",
            "Epoch 10/50\n",
            "75/75 [==============================] - 8s 104ms/step - loss: 0.0845 - acc: 0.9686 - val_loss: 0.0872 - val_acc: 0.9690\n",
            "Epoch 11/50\n",
            "75/75 [==============================] - 8s 104ms/step - loss: 0.0843 - acc: 0.9685 - val_loss: 0.0706 - val_acc: 0.9719\n",
            "Epoch 12/50\n",
            "75/75 [==============================] - 8s 103ms/step - loss: 0.0769 - acc: 0.9712 - val_loss: 0.0644 - val_acc: 0.9758\n",
            "Epoch 13/50\n",
            "75/75 [==============================] - 8s 102ms/step - loss: 0.0733 - acc: 0.9723 - val_loss: 0.0700 - val_acc: 0.9732\n",
            "Epoch 14/50\n",
            "75/75 [==============================] - 8s 102ms/step - loss: 0.0663 - acc: 0.9755 - val_loss: 0.0597 - val_acc: 0.9783\n",
            "Epoch 15/50\n",
            "75/75 [==============================] - 8s 105ms/step - loss: 0.0600 - acc: 0.9766 - val_loss: 0.0653 - val_acc: 0.9751\n",
            "Epoch 16/50\n",
            "75/75 [==============================] - 8s 104ms/step - loss: 0.0673 - acc: 0.9744 - val_loss: 0.0591 - val_acc: 0.9779\n",
            "Epoch 17/50\n",
            "75/75 [==============================] - 8s 101ms/step - loss: 0.0581 - acc: 0.9761 - val_loss: 0.0615 - val_acc: 0.9766\n",
            "Epoch 18/50\n",
            "75/75 [==============================] - 8s 102ms/step - loss: 0.0616 - acc: 0.9772 - val_loss: 0.0703 - val_acc: 0.9739\n",
            "Epoch 19/50\n",
            "75/75 [==============================] - 8s 105ms/step - loss: 0.0568 - acc: 0.9779 - val_loss: 0.0516 - val_acc: 0.9803\n",
            "Epoch 20/50\n",
            "75/75 [==============================] - 8s 104ms/step - loss: 0.0501 - acc: 0.9807 - val_loss: 0.0543 - val_acc: 0.9804\n",
            "Epoch 21/50\n",
            "75/75 [==============================] - 8s 102ms/step - loss: 0.0487 - acc: 0.9809 - val_loss: 0.0556 - val_acc: 0.9793\n",
            "Epoch 22/50\n",
            "75/75 [==============================] - 8s 102ms/step - loss: 0.0501 - acc: 0.9813 - val_loss: 0.0599 - val_acc: 0.9800\n",
            "Epoch 23/50\n",
            "75/75 [==============================] - 8s 104ms/step - loss: 0.0429 - acc: 0.9835 - val_loss: 0.0470 - val_acc: 0.9835\n",
            "Epoch 24/50\n",
            "75/75 [==============================] - 8s 104ms/step - loss: 0.0466 - acc: 0.9827 - val_loss: 0.0542 - val_acc: 0.9804\n",
            "Epoch 25/50\n",
            "75/75 [==============================] - 8s 103ms/step - loss: 0.0428 - acc: 0.9836 - val_loss: 0.0594 - val_acc: 0.9779\n",
            "Epoch 26/50\n",
            "75/75 [==============================] - 8s 102ms/step - loss: 0.0428 - acc: 0.9845 - val_loss: 0.0484 - val_acc: 0.9825\n",
            "Epoch 27/50\n",
            "75/75 [==============================] - 8s 104ms/step - loss: 0.0427 - acc: 0.9838 - val_loss: 0.0486 - val_acc: 0.9813\n",
            "Epoch 28/50\n",
            "75/75 [==============================] - 8s 102ms/step - loss: 0.0379 - acc: 0.9858 - val_loss: 0.0388 - val_acc: 0.9852\n",
            "Epoch 29/50\n",
            "75/75 [==============================] - 8s 103ms/step - loss: 0.0376 - acc: 0.9857 - val_loss: 0.0534 - val_acc: 0.9809\n",
            "Epoch 30/50\n",
            "75/75 [==============================] - 8s 102ms/step - loss: 0.0360 - acc: 0.9862 - val_loss: 0.0412 - val_acc: 0.9846\n",
            "Epoch 31/50\n",
            "75/75 [==============================] - 8s 105ms/step - loss: 0.0359 - acc: 0.9865 - val_loss: 0.0495 - val_acc: 0.9826\n",
            "Epoch 32/50\n",
            "75/75 [==============================] - 8s 102ms/step - loss: 0.0391 - acc: 0.9850 - val_loss: 0.0466 - val_acc: 0.9833\n",
            "Epoch 33/50\n",
            "75/75 [==============================] - 8s 108ms/step - loss: 0.0346 - acc: 0.9870 - val_loss: 0.0408 - val_acc: 0.9854\n",
            "Epoch 34/50\n",
            "75/75 [==============================] - 8s 102ms/step - loss: 0.0294 - acc: 0.9889 - val_loss: 0.0414 - val_acc: 0.9868\n",
            "Epoch 35/50\n",
            "75/75 [==============================] - 8s 104ms/step - loss: 0.0304 - acc: 0.9882 - val_loss: 0.0471 - val_acc: 0.9824\n",
            "Epoch 36/50\n",
            "75/75 [==============================] - 8s 102ms/step - loss: 0.0301 - acc: 0.9885 - val_loss: 0.0361 - val_acc: 0.9862\n",
            "Epoch 37/50\n",
            "75/75 [==============================] - 8s 103ms/step - loss: 0.0298 - acc: 0.9883 - val_loss: 0.0457 - val_acc: 0.9849\n",
            "Epoch 38/50\n",
            "75/75 [==============================] - 8s 103ms/step - loss: 0.0284 - acc: 0.9892 - val_loss: 0.0420 - val_acc: 0.9859\n",
            "Epoch 39/50\n",
            "75/75 [==============================] - 8s 103ms/step - loss: 0.0250 - acc: 0.9910 - val_loss: 0.0407 - val_acc: 0.9860\n",
            "Epoch 40/50\n",
            "75/75 [==============================] - 8s 103ms/step - loss: 0.0246 - acc: 0.9906 - val_loss: 0.0391 - val_acc: 0.9871\n",
            "Epoch 41/50\n",
            "75/75 [==============================] - 8s 104ms/step - loss: 0.0241 - acc: 0.9907 - val_loss: 0.0363 - val_acc: 0.9872\n",
            "Epoch 42/50\n",
            "75/75 [==============================] - 8s 108ms/step - loss: 0.0276 - acc: 0.9900 - val_loss: 0.0343 - val_acc: 0.9879\n",
            "Epoch 43/50\n",
            "75/75 [==============================] - 8s 103ms/step - loss: 0.0268 - acc: 0.9900 - val_loss: 0.0383 - val_acc: 0.9864\n",
            "Epoch 44/50\n",
            "75/75 [==============================] - 8s 103ms/step - loss: 0.0263 - acc: 0.9896 - val_loss: 0.0413 - val_acc: 0.9852\n",
            "Epoch 45/50\n",
            "75/75 [==============================] - 8s 104ms/step - loss: 0.0287 - acc: 0.9901 - val_loss: 0.0367 - val_acc: 0.9870\n",
            "Epoch 46/50\n",
            "75/75 [==============================] - 8s 105ms/step - loss: 0.0211 - acc: 0.9919 - val_loss: 0.0406 - val_acc: 0.9865\n",
            "Epoch 47/50\n",
            "75/75 [==============================] - 8s 107ms/step - loss: 0.0237 - acc: 0.9913 - val_loss: 0.0410 - val_acc: 0.9857\n",
            "Epoch 48/50\n",
            "75/75 [==============================] - 8s 103ms/step - loss: 0.0278 - acc: 0.9891 - val_loss: 0.0378 - val_acc: 0.9853\n",
            "Epoch 49/50\n",
            "75/75 [==============================] - 8s 109ms/step - loss: 0.0229 - acc: 0.9913 - val_loss: 0.0403 - val_acc: 0.9856\n",
            "Epoch 50/50\n",
            "75/75 [==============================] - 8s 106ms/step - loss: 0.0285 - acc: 0.9896 - val_loss: 0.0528 - val_acc: 0.9813\n"
          ],
          "name": "stdout"
        }
      ]
    },
    {
      "cell_type": "markdown",
      "metadata": {
        "id": "_lmetVPa_-Sf",
        "colab_type": "text"
      },
      "source": [
        "# 4) Confision Matrix"
      ]
    },
    {
      "cell_type": "code",
      "metadata": {
        "id": "9QE6jBfWkymi",
        "colab_type": "code",
        "outputId": "a7f658e9-e62e-4438-e2af-2c2b517fea15",
        "colab": {
          "base_uri": "https://localhost:8080/",
          "height": 550
        }
      },
      "source": [
        "import seaborn as sns\n",
        "Y_pred = model.predict(x_test)\n",
        "Y_pred_classes = np.argmax(Y_pred,axis = 1) \n",
        "Y_true = np.argmax(y_test,axis = 1) \n",
        "confusion_mtx = confusion_matrix(Y_true, Y_pred_classes) \n",
        "f,ax = plt.subplots(figsize=(8, 8))\n",
        "sns.heatmap(confusion_mtx, annot=True, linewidths=0.01,cmap=\"Blues\",linecolor=\"black\", fmt= '.1f',ax=ax)\n",
        "plt.xlabel(\"Predicted Label\")\n",
        "plt.ylabel(\"True Label\")\n",
        "plt.title(\"Confusion Matrix\")\n",
        "plt.show()"
      ],
      "execution_count": 0,
      "outputs": [
        {
          "output_type": "display_data",
          "data": {
            "image/png": "[encoded data removed]",
            "text/plain": [
              "<Figure size 576x576 with 2 Axes>"
            ]
          },
          "metadata": {
            "tags": []
          }
        }
      ]
    },
    {
      "cell_type": "markdown",
      "metadata": {
        "id": "PThy3rW1k0J2",
        "colab_type": "text"
      },
      "source": [
        "# 5 ) Evaluating the Model Performance"
      ]
    },
    {
      "cell_type": "code",
      "metadata": {
        "id": "vf1aKD-y75Rp",
        "colab_type": "code",
        "outputId": "94ea9b21-01a2-4967-a84b-8a260c8978d0",
        "colab": {
          "base_uri": "https://localhost:8080/",
          "height": 317
        }
      },
      "source": [
        "plt.plot(History.history['loss'])\n",
        "plt.plot(History.history['val_loss'])\n",
        "plt.title('Model Loss')\n",
        "plt.ylabel('Loss')\n",
        "plt.xlabel('Epochs')\n",
        "plt.legend(['train', 'test'])\n",
        "plt.show()"
      ],
      "execution_count": 0,
      "outputs": [
        {
          "output_type": "display_data",
          "data": {
            "image/png": "[encoded data removed]",
            "text/plain": [
              "<Figure size 432x288 with 1 Axes>"
            ]
          },
          "metadata": {
            "tags": []
          }
        }
      ]
    },
    {
      "cell_type": "code",
      "metadata": {
        "id": "2rKOujgO7-Dg",
        "colab_type": "code",
        "outputId": "8c143e13-d677-4288-fa42-2152abdbe1f1",
        "colab": {
          "base_uri": "https://localhost:8080/",
          "height": 317
        }
      },
      "source": [
        "plt.plot(History.history['acc'])\n",
        "plt.plot(History.history['val_acc'])\n",
        "plt.title('Model Accuracy')\n",
        "plt.ylabel('Accuracy')\n",
        "plt.xlabel('Epochs')\n",
        "plt.legend(['train', 'test'])\n",
        "plt.show()"
      ],
      "execution_count": 0,
      "outputs": [
        {
          "output_type": "display_data",
          "data": {
            "image/png": "[encoded data removed]",
            "text/plain": [
              "<Figure size 432x288 with 1 Axes>"
            ]
          },
          "metadata": {
            "tags": []
          }
        }
      ]
    }
  ]
}