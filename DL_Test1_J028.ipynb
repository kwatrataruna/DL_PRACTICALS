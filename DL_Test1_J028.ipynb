{
  "nbformat": 4,
  "nbformat_minor": 0,
  "metadata": {
    "colab": {
      "name": "DL_Test1_J025.ipynb",
      "provenance": []
    },
    "kernelspec": {
      "name": "python3",
      "display_name": "Python 3"
    }
  },
  "cells": [
    {
      "cell_type": "code",
      "metadata": {
        "id": "9B5FjVXEYzoi",
        "colab_type": "code",
        "outputId": "968b6d03-116a-47d9-d338-0e3a24f0b978",
        "colab": {
          "base_uri": "https://localhost:8080/",
          "height": 83
        }
      },
      "source": [
        "#import packages\n",
        "from keras.datasets import cifar10\n",
        "from keras.models import Sequential\n",
        "from keras.layers import Dense, Dropout, Activation, Flatten\n",
        "from keras.utils import to_categorical"
      ],
      "execution_count": 0,
      "outputs": [
        {
          "output_type": "stream",
          "text": [
            "Using TensorFlow backend.\n"
          ],
          "name": "stderr"
        },
        {
          "output_type": "display_data",
          "data": {
            "text/html": [
              "<p style=\"color: red;\">\n",
              "The default version of TensorFlow in Colab will soon switch to TensorFlow 2.x.<br>\n",
              "We recommend you <a href=\"https://www.tensorflow.org/guide/migrate\" target=\"_blank\">upgrade</a> now \n",
              "or ensure your notebook will continue to use TensorFlow 1.x via the <code>%tensorflow_version 1.x</code> magic:\n",
              "<a href=\"https://colab.research.google.com/notebooks/tensorflow_version.ipynb\" target=\"_blank\">more info</a>.</p>\n"
            ],
            "text/plain": [
              "<IPython.core.display.HTML object>"
            ]
          },
          "metadata": {
            "tags": []
          }
        }
      ]
    },
    {
      "cell_type": "code",
      "metadata": {
        "id": "RP0K3lNHZ01q",
        "colab_type": "code",
        "outputId": "cbbf98bb-a4aa-4728-b110-4c5ae119cf4b",
        "colab": {
          "base_uri": "https://localhost:8080/",
          "height": 54
        }
      },
      "source": [
        "#import dataset\n",
        "(X_Train, y_Train), (X_test, y_test) = cifar10.load_data()\n",
        "from sklearn.model_selection import train_test_split as tts\n",
        "X_train, X_cv, y_train, y_cv = tts(X_Train, y_Train, test_size=0.3, random_state=42)"
      ],
      "execution_count": 0,
      "outputs": [
        {
          "output_type": "stream",
          "text": [
            "Downloading data from https://www.cs.toronto.edu/~kriz/cifar-10-python.tar.gz\n",
            "170500096/170498071 [==============================] - 2s 0us/step\n"
          ],
          "name": "stdout"
        }
      ]
    },
    {
      "cell_type": "code",
      "metadata": {
        "id": "HHxhGwCubP45",
        "colab_type": "code",
        "outputId": "52be49cb-f981-4a42-f09a-3b07063f61d9",
        "colab": {
          "base_uri": "https://localhost:8080/",
          "height": 72
        }
      },
      "source": [
        "print(X_test.shape)\n",
        "print(X_train.shape)\n",
        "print(X_cv.shape)"
      ],
      "execution_count": 0,
      "outputs": [
        {
          "output_type": "stream",
          "text": [
            "(10000, 32, 32, 3)\n",
            "(35000, 32, 32, 3)\n",
            "(15000, 32, 32, 3)\n"
          ],
          "name": "stdout"
        }
      ]
    },
    {
      "cell_type": "code",
      "metadata": {
        "id": "Boq0UDBDZWOs",
        "colab_type": "code",
        "colab": {}
      },
      "source": [
        "#change shape from image to vector\n",
        "X_train = X_train.reshape(35000, 32 * 32 * 3)\n",
        "X_cv = X_cv.reshape(15000, 32 * 32 * 3)\n",
        "X_test = X_test.reshape(10000, 32 * 32 * 3)\n",
        "\n",
        "#preprocess\n",
        "X_train = X_train.astype('float32')\n",
        "X_cv = X_cv.astype('float32')\n",
        "X_test = X_test.astype('float32')\n",
        "X_train /= 255.0\n",
        "X_cv /= 255.0\n",
        "X_test /= 255.0\n",
        "\n",
        "#change labels from numeric to one hot encoded\n",
        "Y_train = to_categorical(y_train, 10)\n",
        "Y_cv = to_categorical(y_cv, 10)\n",
        "Y_test =  to_categorical(y_test, 10)"
      ],
      "execution_count": 0,
      "outputs": []
    },
    {
      "cell_type": "code",
      "metadata": {
        "id": "tgwuUs3hZnyz",
        "colab_type": "code",
        "outputId": "c6dce978-45e2-4f66-cc07-a5ba08354c1a",
        "colab": {
          "base_uri": "https://localhost:8080/",
          "height": 1000
        }
      },
      "source": [
        "model = Sequential()\n",
        "model.add(Dense(1024, input_shape=(3072, )))\n",
        "model.add(Activation('relu'))\n",
        "model.add(Dense(512))\n",
        "model.add(Activation('relu'))\n",
        "model.add(Dense(512))\n",
        "model.add(Activation('relu'))\n",
        "model.add(Dense(10))\n",
        "model.add(Activation('softmax'))\n",
        "\n",
        "model.compile(loss='categorical_crossentropy',\n",
        "                  optimizer='adamax',\n",
        "                  metrics=['accuracy'])\n",
        "\n",
        "# training\n",
        "history = model.fit(X_train, Y_train,\n",
        "                        batch_size=32,\n",
        "                        nb_epoch=20,\n",
        "                        verbose=1,\n",
        "                        validation_data=(X_cv, Y_cv))"
      ],
      "execution_count": 0,
      "outputs": [
        {
          "output_type": "stream",
          "text": [
            "WARNING:tensorflow:From /usr/local/lib/python3.6/dist-packages/keras/backend/tensorflow_backend.py:66: The name tf.get_default_graph is deprecated. Please use tf.compat.v1.get_default_graph instead.\n",
            "\n",
            "WARNING:tensorflow:From /usr/local/lib/python3.6/dist-packages/keras/backend/tensorflow_backend.py:541: The name tf.placeholder is deprecated. Please use tf.compat.v1.placeholder instead.\n",
            "\n",
            "WARNING:tensorflow:From /usr/local/lib/python3.6/dist-packages/keras/backend/tensorflow_backend.py:4432: The name tf.random_uniform is deprecated. Please use tf.random.uniform instead.\n",
            "\n",
            "WARNING:tensorflow:From /usr/local/lib/python3.6/dist-packages/keras/optimizers.py:793: The name tf.train.Optimizer is deprecated. Please use tf.compat.v1.train.Optimizer instead.\n",
            "\n",
            "WARNING:tensorflow:From /usr/local/lib/python3.6/dist-packages/keras/backend/tensorflow_backend.py:3576: The name tf.log is deprecated. Please use tf.math.log instead.\n",
            "\n",
            "WARNING:tensorflow:From /usr/local/lib/python3.6/dist-packages/tensorflow_core/python/ops/math_grad.py:1424: where (from tensorflow.python.ops.array_ops) is deprecated and will be removed in a future version.\n",
            "Instructions for updating:\n",
            "Use tf.where in 2.0, which has the same broadcast rule as np.where\n",
            "WARNING:tensorflow:From /usr/local/lib/python3.6/dist-packages/keras/backend/tensorflow_backend.py:1033: The name tf.assign_add is deprecated. Please use tf.compat.v1.assign_add instead.\n",
            "\n"
          ],
          "name": "stdout"
        },
        {
          "output_type": "stream",
          "text": [
            "/usr/local/lib/python3.6/dist-packages/ipykernel_launcher.py:20: UserWarning: The `nb_epoch` argument in `fit` has been renamed `epochs`.\n"
          ],
          "name": "stderr"
        },
        {
          "output_type": "stream",
          "text": [
            "WARNING:tensorflow:From /usr/local/lib/python3.6/dist-packages/keras/backend/tensorflow_backend.py:1020: The name tf.assign is deprecated. Please use tf.compat.v1.assign instead.\n",
            "\n",
            "WARNING:tensorflow:From /usr/local/lib/python3.6/dist-packages/keras/backend/tensorflow_backend.py:3005: The name tf.Session is deprecated. Please use tf.compat.v1.Session instead.\n",
            "\n",
            "Train on 35000 samples, validate on 15000 samples\n",
            "Epoch 1/20\n",
            "WARNING:tensorflow:From /usr/local/lib/python3.6/dist-packages/keras/backend/tensorflow_backend.py:190: The name tf.get_default_session is deprecated. Please use tf.compat.v1.get_default_session instead.\n",
            "\n",
            "WARNING:tensorflow:From /usr/local/lib/python3.6/dist-packages/keras/backend/tensorflow_backend.py:197: The name tf.ConfigProto is deprecated. Please use tf.compat.v1.ConfigProto instead.\n",
            "\n",
            "WARNING:tensorflow:From /usr/local/lib/python3.6/dist-packages/keras/backend/tensorflow_backend.py:207: The name tf.global_variables is deprecated. Please use tf.compat.v1.global_variables instead.\n",
            "\n",
            "WARNING:tensorflow:From /usr/local/lib/python3.6/dist-packages/keras/backend/tensorflow_backend.py:216: The name tf.is_variable_initialized is deprecated. Please use tf.compat.v1.is_variable_initialized instead.\n",
            "\n",
            "WARNING:tensorflow:From /usr/local/lib/python3.6/dist-packages/keras/backend/tensorflow_backend.py:223: The name tf.variables_initializer is deprecated. Please use tf.compat.v1.variables_initializer instead.\n",
            "\n",
            "35000/35000 [==============================] - 88s 3ms/step - loss: 1.9094 - acc: 0.3134 - val_loss: 1.7269 - val_acc: 0.3820\n",
            "Epoch 2/20\n",
            "35000/35000 [==============================] - 88s 3ms/step - loss: 1.6990 - acc: 0.3879 - val_loss: 1.6404 - val_acc: 0.4110\n",
            "Epoch 3/20\n",
            "35000/35000 [==============================] - 85s 2ms/step - loss: 1.6141 - acc: 0.4219 - val_loss: 1.6255 - val_acc: 0.4118\n",
            "Epoch 4/20\n",
            "35000/35000 [==============================] - 87s 2ms/step - loss: 1.5405 - acc: 0.4492 - val_loss: 1.5622 - val_acc: 0.4426\n",
            "Epoch 5/20\n",
            "35000/35000 [==============================] - 90s 3ms/step - loss: 1.4870 - acc: 0.4682 - val_loss: 1.5266 - val_acc: 0.4549\n",
            "Epoch 6/20\n",
            "35000/35000 [==============================] - 85s 2ms/step - loss: 1.4425 - acc: 0.4825 - val_loss: 1.4879 - val_acc: 0.4728\n",
            "Epoch 7/20\n",
            "35000/35000 [==============================] - 83s 2ms/step - loss: 1.3973 - acc: 0.5006 - val_loss: 1.4580 - val_acc: 0.4837\n",
            "Epoch 8/20\n",
            "35000/35000 [==============================] - 83s 2ms/step - loss: 1.3582 - acc: 0.5124 - val_loss: 1.4313 - val_acc: 0.4901\n",
            "Epoch 9/20\n",
            "35000/35000 [==============================] - 82s 2ms/step - loss: 1.3149 - acc: 0.5294 - val_loss: 1.5125 - val_acc: 0.4639\n",
            "Epoch 10/20\n",
            "35000/35000 [==============================] - 82s 2ms/step - loss: 1.2777 - acc: 0.5421 - val_loss: 1.4768 - val_acc: 0.4827\n",
            "Epoch 11/20\n",
            "35000/35000 [==============================] - 83s 2ms/step - loss: 1.2342 - acc: 0.5570 - val_loss: 1.4591 - val_acc: 0.4912\n",
            "Epoch 12/20\n",
            "35000/35000 [==============================] - 82s 2ms/step - loss: 1.1944 - acc: 0.5686 - val_loss: 1.4726 - val_acc: 0.4850\n",
            "Epoch 13/20\n",
            "35000/35000 [==============================] - 84s 2ms/step - loss: 1.1509 - acc: 0.5848 - val_loss: 1.4528 - val_acc: 0.5033\n",
            "Epoch 14/20\n",
            "35000/35000 [==============================] - 79s 2ms/step - loss: 1.0948 - acc: 0.6059 - val_loss: 1.5111 - val_acc: 0.4924\n",
            "Epoch 15/20\n",
            "35000/35000 [==============================] - 80s 2ms/step - loss: 1.0556 - acc: 0.6205 - val_loss: 1.5277 - val_acc: 0.4950\n",
            "Epoch 16/20\n",
            "35000/35000 [==============================] - 85s 2ms/step - loss: 1.0052 - acc: 0.6385 - val_loss: 1.5177 - val_acc: 0.5047\n",
            "Epoch 17/20\n",
            "35000/35000 [==============================] - 85s 2ms/step - loss: 0.9553 - acc: 0.6579 - val_loss: 1.5204 - val_acc: 0.5054\n",
            "Epoch 18/20\n",
            "35000/35000 [==============================] - 84s 2ms/step - loss: 0.9049 - acc: 0.6737 - val_loss: 1.5391 - val_acc: 0.5045\n",
            "Epoch 19/20\n",
            "35000/35000 [==============================] - 84s 2ms/step - loss: 0.8539 - acc: 0.6917 - val_loss: 1.5751 - val_acc: 0.5046\n",
            "Epoch 20/20\n",
            "35000/35000 [==============================] - 80s 2ms/step - loss: 0.7977 - acc: 0.7131 - val_loss: 1.6039 - val_acc: 0.5107\n"
          ],
          "name": "stdout"
        }
      ]
    },
    {
      "cell_type": "markdown",
      "metadata": {
        "id": "5AMUThA6szRW",
        "colab_type": "text"
      },
      "source": [
        "Hyperparameters:\n",
        "\n",
        "\n",
        "*   Loss: categorical_crossentropy\n",
        "*   Layers: 4\n",
        "*   Activation : 3 'relu' layers 1 'softmax'\n",
        "*   Optimizer: adamax\n",
        "\n",
        "\n",
        "\n"
      ]
    },
    {
      "cell_type": "code",
      "metadata": {
        "id": "fe_ljm3Keh5M",
        "colab_type": "code",
        "outputId": "6592e9aa-1a86-4b28-fd04-9117ed48e079",
        "colab": {
          "base_uri": "https://localhost:8080/",
          "height": 573
        }
      },
      "source": [
        "import matplotlib.pyplot as plt\n",
        "# Plot training & validation accuracy values\n",
        "plt.plot(history.history['acc'])\n",
        "plt.plot(history.history['val_acc'])\n",
        "plt.title('Model accuracy')\n",
        "plt.ylabel('Accuracy')\n",
        "plt.xlabel('Epoch')\n",
        "plt.legend(['Train', 'Test'], loc='upper left')\n",
        "plt.show()\n",
        "\n",
        "# Plot training & validation loss values\n",
        "plt.plot(history.history['loss'])\n",
        "plt.plot(history.history['val_loss'])\n",
        "plt.title('Model loss')\n",
        "plt.ylabel('Loss')\n",
        "plt.xlabel('Epoch')\n",
        "plt.legend(['Train', 'Test'], loc='upper left')\n",
        "plt.show()"
      ],
      "execution_count": 0,
      "outputs": [
        {
          "output_type": "display_data",
          "data": {
            "image/png": "[encoded data removed]",
            "text/plain": [
              "<Figure size 432x288 with 1 Axes>"
            ]
          },
          "metadata": {
            "tags": []
          }
        },
        {
          "output_type": "display_data",
          "data": {
            "image/png": "[encoded data removed]",
            "text/plain": [
              "<Figure size 432x288 with 1 Axes>"
            ]
          },
          "metadata": {
            "tags": []
          }
        }
      ]
    },
    {
      "cell_type": "code",
      "metadata": {
        "id": "lpg5q_uIq5UO",
        "colab_type": "code",
        "outputId": "6f3a0bcc-2f76-4a92-d14c-5a0c8ec80e8d",
        "colab": {
          "base_uri": "https://localhost:8080/",
          "height": 460
        }
      },
      "source": [
        "model.summary()"
      ],
      "execution_count": 0,
      "outputs": [
        {
          "output_type": "stream",
          "text": [
            "Model: \"sequential_1\"\n",
            "_________________________________________________________________\n",
            "Layer (type)                 Output Shape              Param #   \n",
            "=================================================================\n",
            "dense_1 (Dense)              (None, 1024)              3146752   \n",
            "_________________________________________________________________\n",
            "activation_1 (Activation)    (None, 1024)              0         \n",
            "_________________________________________________________________\n",
            "dense_2 (Dense)              (None, 512)               524800    \n",
            "_________________________________________________________________\n",
            "activation_2 (Activation)    (None, 512)               0         \n",
            "_________________________________________________________________\n",
            "dense_3 (Dense)              (None, 512)               262656    \n",
            "_________________________________________________________________\n",
            "activation_3 (Activation)    (None, 512)               0         \n",
            "_________________________________________________________________\n",
            "dense_4 (Dense)              (None, 10)                5130      \n",
            "_________________________________________________________________\n",
            "activation_4 (Activation)    (None, 10)                0         \n",
            "=================================================================\n",
            "Total params: 3,939,338\n",
            "Trainable params: 3,939,338\n",
            "Non-trainable params: 0\n",
            "_________________________________________________________________\n"
          ],
          "name": "stdout"
        }
      ]
    },
    {
      "cell_type": "code",
      "metadata": {
        "id": "8rUhoxHbsX1j",
        "colab_type": "code",
        "outputId": "5f8f944e-11c4-478e-e4b6-a99c79723f98",
        "colab": {
          "base_uri": "https://localhost:8080/",
          "height": 1000
        }
      },
      "source": [
        "# Output network visualization\n",
        "from keras.utils.vis_utils import model_to_dot\n",
        "from IPython.display import SVG\n",
        "SVG(model_to_dot(model).create(prog='dot', format='svg'))"
      ],
      "execution_count": 0,
      "outputs": [
        {
          "output_type": "execute_result",
          "data": {
            "text/plain": [
              "<IPython.core.display.SVG object>"
            ],
            "image/svg+xml": "<svg height=\"839pt\" viewBox=\"0.00 0.00 181.00 629.00\" width=\"241pt\" xmlns=\"http://www.w3.org/2000/svg\" xmlns:xlink=\"http://www.w3.org/1999/xlink\">\n<g class=\"graph\" id=\"graph0\" transform=\"scale(1.3333 1.3333) rotate(0) translate(4 625)\">\n<title>G</title>\n<polygon fill=\"#ffffff\" points=\"-4,4 -4,-625 177,-625 177,4 -4,4\" stroke=\"transparent\"/>\n<!-- 139954619341736 -->\n<g class=\"node\" id=\"node1\">\n<title>139954619341736</title>\n<polygon fill=\"none\" points=\"0,-584.5 0,-620.5 173,-620.5 173,-584.5 0,-584.5\" stroke=\"#000000\"/>\n<text fill=\"#000000\" font-family=\"Times,serif\" font-size=\"14.00\" text-anchor=\"middle\" x=\"86.5\" y=\"-598.8\">dense_1_input: InputLayer</text>\n</g>\n<!-- 139954757913512 -->\n<g class=\"node\" id=\"node2\">\n<title>139954757913512</title>\n<polygon fill=\"none\" points=\"33,-511.5 33,-547.5 140,-547.5 140,-511.5 33,-511.5\" stroke=\"#000000\"/>\n<text fill=\"#000000\" font-family=\"Times,serif\" font-size=\"14.00\" text-anchor=\"middle\" x=\"86.5\" y=\"-525.8\">dense_1: Dense</text>\n</g>\n<!-- 139954619341736&#45;&gt;139954757913512 -->\n<g class=\"edge\" id=\"edge1\">\n<title>139954619341736-&gt;139954757913512</title>\n<path d=\"M86.5,-584.4551C86.5,-576.3828 86.5,-566.6764 86.5,-557.6817\" fill=\"none\" stroke=\"#000000\"/>\n<polygon fill=\"#000000\" points=\"90.0001,-557.5903 86.5,-547.5904 83.0001,-557.5904 90.0001,-557.5903\" stroke=\"#000000\"/>\n</g>\n<!-- 139954757913344 -->\n<g class=\"node\" id=\"node3\">\n<title>139954757913344</title>\n<polygon fill=\"none\" points=\"9.5,-438.5 9.5,-474.5 163.5,-474.5 163.5,-438.5 9.5,-438.5\" stroke=\"#000000\"/>\n<text fill=\"#000000\" font-family=\"Times,serif\" font-size=\"14.00\" text-anchor=\"middle\" x=\"86.5\" y=\"-452.8\">activation_1: Activation</text>\n</g>\n<!-- 139954757913512&#45;&gt;139954757913344 -->\n<g class=\"edge\" id=\"edge2\">\n<title>139954757913512-&gt;139954757913344</title>\n<path d=\"M86.5,-511.4551C86.5,-503.3828 86.5,-493.6764 86.5,-484.6817\" fill=\"none\" stroke=\"#000000\"/>\n<polygon fill=\"#000000\" points=\"90.0001,-484.5903 86.5,-474.5904 83.0001,-484.5904 90.0001,-484.5903\" stroke=\"#000000\"/>\n</g>\n<!-- 139954619342576 -->\n<g class=\"node\" id=\"node4\">\n<title>139954619342576</title>\n<polygon fill=\"none\" points=\"33,-365.5 33,-401.5 140,-401.5 140,-365.5 33,-365.5\" stroke=\"#000000\"/>\n<text fill=\"#000000\" font-family=\"Times,serif\" font-size=\"14.00\" text-anchor=\"middle\" x=\"86.5\" y=\"-379.8\">dense_2: Dense</text>\n</g>\n<!-- 139954757913344&#45;&gt;139954619342576 -->\n<g class=\"edge\" id=\"edge3\">\n<title>139954757913344-&gt;139954619342576</title>\n<path d=\"M86.5,-438.4551C86.5,-430.3828 86.5,-420.6764 86.5,-411.6817\" fill=\"none\" stroke=\"#000000\"/>\n<polygon fill=\"#000000\" points=\"90.0001,-411.5903 86.5,-401.5904 83.0001,-411.5904 90.0001,-411.5903\" stroke=\"#000000\"/>\n</g>\n<!-- 139954608320296 -->\n<g class=\"node\" id=\"node5\">\n<title>139954608320296</title>\n<polygon fill=\"none\" points=\"9.5,-292.5 9.5,-328.5 163.5,-328.5 163.5,-292.5 9.5,-292.5\" stroke=\"#000000\"/>\n<text fill=\"#000000\" font-family=\"Times,serif\" font-size=\"14.00\" text-anchor=\"middle\" x=\"86.5\" y=\"-306.8\">activation_2: Activation</text>\n</g>\n<!-- 139954619342576&#45;&gt;139954608320296 -->\n<g class=\"edge\" id=\"edge4\">\n<title>139954619342576-&gt;139954608320296</title>\n<path d=\"M86.5,-365.4551C86.5,-357.3828 86.5,-347.6764 86.5,-338.6817\" fill=\"none\" stroke=\"#000000\"/>\n<polygon fill=\"#000000\" points=\"90.0001,-338.5903 86.5,-328.5904 83.0001,-338.5904 90.0001,-338.5903\" stroke=\"#000000\"/>\n</g>\n<!-- 139954608392176 -->\n<g class=\"node\" id=\"node6\">\n<title>139954608392176</title>\n<polygon fill=\"none\" points=\"33,-219.5 33,-255.5 140,-255.5 140,-219.5 33,-219.5\" stroke=\"#000000\"/>\n<text fill=\"#000000\" font-family=\"Times,serif\" font-size=\"14.00\" text-anchor=\"middle\" x=\"86.5\" y=\"-233.8\">dense_3: Dense</text>\n</g>\n<!-- 139954608320296&#45;&gt;139954608392176 -->\n<g class=\"edge\" id=\"edge5\">\n<title>139954608320296-&gt;139954608392176</title>\n<path d=\"M86.5,-292.4551C86.5,-284.3828 86.5,-274.6764 86.5,-265.6817\" fill=\"none\" stroke=\"#000000\"/>\n<polygon fill=\"#000000\" points=\"90.0001,-265.5903 86.5,-255.5904 83.0001,-265.5904 90.0001,-265.5903\" stroke=\"#000000\"/>\n</g>\n<!-- 139954608445592 -->\n<g class=\"node\" id=\"node7\">\n<title>139954608445592</title>\n<polygon fill=\"none\" points=\"9.5,-146.5 9.5,-182.5 163.5,-182.5 163.5,-146.5 9.5,-146.5\" stroke=\"#000000\"/>\n<text fill=\"#000000\" font-family=\"Times,serif\" font-size=\"14.00\" text-anchor=\"middle\" x=\"86.5\" y=\"-160.8\">activation_3: Activation</text>\n</g>\n<!-- 139954608392176&#45;&gt;139954608445592 -->\n<g class=\"edge\" id=\"edge6\">\n<title>139954608392176-&gt;139954608445592</title>\n<path d=\"M86.5,-219.4551C86.5,-211.3828 86.5,-201.6764 86.5,-192.6817\" fill=\"none\" stroke=\"#000000\"/>\n<polygon fill=\"#000000\" points=\"90.0001,-192.5903 86.5,-182.5904 83.0001,-192.5904 90.0001,-192.5903\" stroke=\"#000000\"/>\n</g>\n<!-- 139954608476456 -->\n<g class=\"node\" id=\"node8\">\n<title>139954608476456</title>\n<polygon fill=\"none\" points=\"33,-73.5 33,-109.5 140,-109.5 140,-73.5 33,-73.5\" stroke=\"#000000\"/>\n<text fill=\"#000000\" font-family=\"Times,serif\" font-size=\"14.00\" text-anchor=\"middle\" x=\"86.5\" y=\"-87.8\">dense_4: Dense</text>\n</g>\n<!-- 139954608445592&#45;&gt;139954608476456 -->\n<g class=\"edge\" id=\"edge7\">\n<title>139954608445592-&gt;139954608476456</title>\n<path d=\"M86.5,-146.4551C86.5,-138.3828 86.5,-128.6764 86.5,-119.6817\" fill=\"none\" stroke=\"#000000\"/>\n<polygon fill=\"#000000\" points=\"90.0001,-119.5903 86.5,-109.5904 83.0001,-119.5904 90.0001,-119.5903\" stroke=\"#000000\"/>\n</g>\n<!-- 139954608509560 -->\n<g class=\"node\" id=\"node9\">\n<title>139954608509560</title>\n<polygon fill=\"none\" points=\"9.5,-.5 9.5,-36.5 163.5,-36.5 163.5,-.5 9.5,-.5\" stroke=\"#000000\"/>\n<text fill=\"#000000\" font-family=\"Times,serif\" font-size=\"14.00\" text-anchor=\"middle\" x=\"86.5\" y=\"-14.8\">activation_4: Activation</text>\n</g>\n<!-- 139954608476456&#45;&gt;139954608509560 -->\n<g class=\"edge\" id=\"edge8\">\n<title>139954608476456-&gt;139954608509560</title>\n<path d=\"M86.5,-73.4551C86.5,-65.3828 86.5,-55.6764 86.5,-46.6817\" fill=\"none\" stroke=\"#000000\"/>\n<polygon fill=\"#000000\" points=\"90.0001,-46.5903 86.5,-36.5904 83.0001,-46.5904 90.0001,-46.5903\" stroke=\"#000000\"/>\n</g>\n</g>\n</svg>"
          },
          "metadata": {
            "tags": []
          },
          "execution_count": 9
        }
      ]
    }
  ]
}